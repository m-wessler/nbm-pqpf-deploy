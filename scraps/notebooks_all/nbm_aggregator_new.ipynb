{
 "cells": [
  {
   "cell_type": "code",
   "execution_count": null,
   "metadata": {},
   "outputs": [],
   "source": [
    "import shutil\n",
    "import shlex\n",
    "import pygrib\n",
    "import subprocess\n",
    "import sys, os, gc\n",
    "import numpy as np\n",
    "import xarray as xr\n",
    "import pandas as pd\n",
    "import multiprocessing as mp\n",
    "\n",
    "from glob import glob\n",
    "from datetime import datetime, timedelta\n",
    "\n",
    "import warnings\n",
    "warnings.filterwarnings('ignore')\n",
    "\n",
    "core_limit = 60\n",
    "keep_percentiles = [1, 5, 10, 25, 50, 75, 90, 95, 99]"
   ]
  },
  {
   "cell_type": "code",
   "execution_count": null,
   "metadata": {},
   "outputs": [],
   "source": [
    "nbm_dir = '/scratch/general/lustre/u1070830/nbm/'\n",
    "out_dir = '/scratch/general/lustre/u1070830/nbm_new/'\n",
    "os.makedirs(out_dir, exist_ok=True)"
   ]
  },
  {
   "cell_type": "code",
   "execution_count": null,
   "metadata": {},
   "outputs": [],
   "source": [
    "nbm_raw = np.array(sorted([f for f in sorted(glob(nbm_dir + '*/*.grib2')) if 'extract' not in f]))"
   ]
  },
  {
   "cell_type": "code",
   "execution_count": null,
   "metadata": {},
   "outputs": [],
   "source": [
    "fhr, interval = 48, 24\n",
    "nbm_raw_fhr = np.array([f for f in nbm_raw if 'f%03d'%fhr in f])\n",
    "print('%d files to extract'%len(nbm_raw_fhr))"
   ]
  },
  {
   "cell_type": "code",
   "execution_count": null,
   "metadata": {},
   "outputs": [],
   "source": [
    "#TEST REMOVE LATER\n",
    "# nbm_raw_fhr = [f for f in nbm_raw_fhr if (('t00z' in f) | ('t12z' in f))][:50]"
   ]
  },
  {
   "cell_type": "code",
   "execution_count": null,
   "metadata": {},
   "outputs": [],
   "source": [
    "def extract_fhr_data(f): \n",
    "\n",
    "    data = []\n",
    "    \n",
    "    with pygrib.open(f) as grb:\n",
    "        \n",
    "        print(f)\n",
    "        \n",
    "        for msg in grb.read():\n",
    "            \n",
    "            step = timedelta(hours=msg.endStep - msg.startStep)\n",
    "            lead = msg.endStep\n",
    "            \n",
    "            if (fhr == lead) & (step == timedelta(hours=interval)):\n",
    "                \n",
    "                lats, lons = msg.latlons()\n",
    "\n",
    "                if 'probability' in str(msg).lower():\n",
    "                    \n",
    "                    init = datetime.strptime(str(msg.dataDate) + '%04d'%msg.dataTime, '%Y%m%d%H%M')                    \n",
    "                    valid = datetime.strptime(str(msg.validityDate) + '%04d'%msg.validityTime, '%Y%m%d%H%M')\n",
    "\n",
    "                    threshold = msg.upperLimit\n",
    "                    threshold_in = round(threshold/25.4, 2)\n",
    "\n",
    "                    if threshold_in <= 4.0:\n",
    "\n",
    "                        # print(init, valid, threshold, lead, threshold_in)\n",
    "                        \n",
    "                        idata = xr.DataArray([msg.data()[0].astype(np.float32)], name='probx',\n",
    "                                                     dims=('valid', 'y', 'x'), \n",
    "                                                     coords={'valid':[valid],\n",
    "                                                             'lat':(('y', 'x'), lats), \n",
    "                                                             'lon':(('y', 'x'), lons)})\n",
    "                        idata['init'] = init                        \n",
    "                        idata['interval'] = interval\n",
    "                        idata['step'] = step\n",
    "                        idata['fhr'] = lead\n",
    "                        \n",
    "                        idata['threshold'] = threshold\n",
    "                        idata['threshold_in'] = threshold_in\n",
    "                        \n",
    "                        data.append(idata)\n",
    "\n",
    "                elif 'percentileValue' in msg.keys():\n",
    "                    \n",
    "                    if msg.percentileValue in keep_percentiles:\n",
    "                        \n",
    "                        # Append this data later, for now pass\n",
    "                        # print(msg.percentileValue, msg)\n",
    "                        pass\n",
    "\n",
    "    data = xr.concat(data, dim='threshold')\n",
    "    print(data)\n",
    "    \n",
    "    out_file = 'blend.%s.t%02dz.qmd.f%03d.WR.nc'%(init.strftime('%Y%m%d'), init.hour, lead)\n",
    "    out_dir + out_file\n",
    "    \n",
    "    data.to_netcdf(out_dir + out_file, unlimited_dims='valid')\n",
    "    print(out_file, 'saved')\n",
    "    \n",
    "    del data\n",
    "    gc.collect()\n",
    "    \n",
    "    return None\n",
    "\n",
    "# extract_fhr_data(nbm_raw_fhr[1])"
   ]
  },
  {
   "cell_type": "code",
   "execution_count": null,
   "metadata": {},
   "outputs": [],
   "source": [
    "# print('Extracting NBM data for FHR%03d using %d processes'%(fhr, core_limit))\n",
    "\n",
    "# with mp.get_context('fork').Pool(core_limit) as p:\n",
    "#     p.map(extract_fhr_data, nbm_raw_fhr, chunksize=1)"
   ]
  },
  {
   "cell_type": "code",
   "execution_count": null,
   "metadata": {},
   "outputs": [],
   "source": [
    "for fhr in [24, 48]:\n",
    "    \n",
    "    indiv_flist = sorted(glob(out_dir + '*f%03d*.nc'%fhr))\n",
    "\n",
    "    months = np.array([os.path.basename(f).split('.')[1][:6] for f in indiv_flist]).astype(int)\n",
    "\n",
    "    for month in np.unique(months):\n",
    "\n",
    "        month_flist = sorted(glob(out_dir + '*%d*f%03d*.nc'%(month, fhr)))\n",
    "\n",
    "        xr.open_mfdataset(\n",
    "            month_flist, \n",
    "            combine='nested', concat_dim='valid'\n",
    "        ).to_netcdf(\n",
    "            out_dir + 'agg/blend.%d.qmd.f%03d.WR.nc'%(month, fhr))\n",
    "\n",
    "        print('SAVED: blend.%d.qmd.f%03d.WR.nc'%(month, fhr))"
   ]
  },
  {
   "cell_type": "code",
   "execution_count": null,
   "metadata": {},
   "outputs": [],
   "source": [
    "# determine the month of the last existing file... that will be your append. \n",
    "# If moved onto next month, assume last month is complete (but can add a check?)"
   ]
  }
 ],
 "metadata": {
  "kernelspec": {
   "display_name": "Python 3",
   "language": "python",
   "name": "python3"
  },
  "language_info": {
   "codemirror_mode": {
    "name": "ipython",
    "version": 3
   },
   "file_extension": ".py",
   "mimetype": "text/x-python",
   "name": "python",
   "nbconvert_exporter": "python",
   "pygments_lexer": "ipython3",
   "version": "3.8.3"
  }
 },
 "nbformat": 4,
 "nbformat_minor": 4
}
