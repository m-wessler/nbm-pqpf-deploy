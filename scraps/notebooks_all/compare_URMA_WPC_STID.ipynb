{
 "cells": [
  {
   "cell_type": "markdown",
   "metadata": {},
   "source": [
    "Compare WPC URMA sample with STID URMA sample. These files were locally collected so script needs to be redirected if used in the future. See Bruce V. at WPC for data. Produces zone-trimmed maps of WR and other CWAS, histograms of accumulated precip."
   ]
  },
  {
   "cell_type": "code",
   "execution_count": null,
   "metadata": {},
   "outputs": [],
   "source": [
    "from glob import glob\n",
    "import numpy as np\n",
    "import xarray as xr\n",
    "import matplotlib.pyplot as plt\n",
    "\n",
    "import xesmf as xe\n",
    "import regionmask\n",
    "import cartopy\n",
    "import cartopy.crs as ccrs\n",
    "import geopandas as gpd\n",
    "\n",
    "cwa = 'WESTUS'"
   ]
  },
  {
   "cell_type": "code",
   "execution_count": null,
   "metadata": {},
   "outputs": [],
   "source": [
    "stid_urma_dir = '/scratch/general/lustre/u1070830/urma/'\n",
    "wpc_urma_dir = '/scratch/general/lustre/u1070830/wpc/urma/'"
   ]
  },
  {
   "cell_type": "code",
   "execution_count": null,
   "metadata": {},
   "outputs": [],
   "source": [
    "stid_urma_files = np.array(glob(stid_urma_dir + '*.grib2'))\n",
    "wpc_urma_files = np.array(glob(wpc_urma_dir + '*.grib2'))"
   ]
  },
  {
   "cell_type": "code",
   "execution_count": null,
   "metadata": {},
   "outputs": [],
   "source": [
    "stid_urma_times = np.array([f.split('.')[1] for f in stid_urma_files])\n",
    "wpc_urma_times = np.array([f.split('_')[3].split('.')[0] for f in wpc_urma_files])"
   ]
  },
  {
   "cell_type": "code",
   "execution_count": null,
   "metadata": {},
   "outputs": [],
   "source": [
    "stid_urma = xr.open_mfdataset(\n",
    "    sorted(stid_urma_files[np.where(np.isin(stid_urma_times, wpc_urma_times))]), \n",
    "    engine='cfgrib', combine='nested', concat_dim='valid_time')\n",
    "\n",
    "stid_urma"
   ]
  },
  {
   "cell_type": "code",
   "execution_count": null,
   "metadata": {},
   "outputs": [],
   "source": [
    "wpc_urma = xr.open_mfdataset(\n",
    "    sorted(wpc_urma_files[np.where(np.isin(wpc_urma_times, stid_urma_times))]),\n",
    "    engine='cfgrib', combine='nested', concat_dim='valid_time')#.sel(x=stid_urma.x, y=stid_urma.y)\n",
    "\n",
    "wpc_urma"
   ]
  },
  {
   "cell_type": "code",
   "execution_count": null,
   "metadata": {},
   "outputs": [],
   "source": [
    "plotvar = wpc_urma['tp']\n",
    "\n",
    "plotvar = xr.where(plotvar > 0.01*25.4, 1, 0).sum(dim='valid_time')/plotvar.valid_time.size\n",
    "plotvar['longitude'] = plotvar['longitude'] - 360\n",
    "\n",
    "# Masking with regionmask\n",
    "lons, lats = plotvar.longitude, plotvar.latitude\n",
    "\n",
    "geodir = '../forecast-zones/'\n",
    "zones_shapefile = glob(geodir + '*.shp')[0]\n",
    "\n",
    "# Read the shapefile\n",
    "zones = gpd.read_file(zones_shapefile)\n",
    "\n",
    "# Prune to Western Region using TZ\n",
    "zones = zones.set_index('TIME_ZONE').loc[['M', 'Mm', 'm', 'MP', 'P']].reset_index()\n",
    "cwas = zones.dissolve(by='CWA').reset_index()[['CWA', 'geometry']]\n",
    "_cwas = cwas.copy()\n",
    "\n",
    "if cwa == 'WESTUS':\n",
    "    _cwas['CWA'] = 'WESTUS'\n",
    "    _cwas = _cwas.dissolve(by='CWA').reset_index()\n",
    "    bounds = _cwas.total_bounds\n",
    "else:\n",
    "    bounds = _cwas[_cwas['CWA'] == cwa].bounds.values[0]\n",
    "        \n",
    "mask = regionmask.mask_3D_geopandas(_cwas, lons, lats).rename({'region':'cwa'})\n",
    "mask['cwa'] = _cwas.iloc[mask.cwa]['CWA'].values.astype(str)\n",
    "mask = mask.sel(cwa=cwa)\n",
    "\n",
    "plotvar['x'] = mask.x\n",
    "plotvar['y'] = mask.y\n",
    "\n",
    "plotvar_masked = xr.where(mask, plotvar, np.nan)"
   ]
  },
  {
   "cell_type": "code",
   "execution_count": null,
   "metadata": {},
   "outputs": [],
   "source": [
    "# Make the plot\n",
    "plt.rcParams.update({'font.size': 18})\n",
    "fig = plt.figure(figsize=(12, 12), facecolor='w')\n",
    "ax = fig.add_axes([0, 0, 1, 1], projection=ccrs.PlateCarree())\n",
    "\n",
    "zones.geometry.boundary.plot(color=None, linestyle='--', edgecolor='black', \n",
    "                             linewidth=0.75, ax=ax)\n",
    "\n",
    "cwas.geometry.boundary.plot(color=None, edgecolor='black', linewidth=1.5, ax=ax)\n",
    "ax.add_feature(cartopy.feature.OCEAN, zorder=100, color='w', edgecolor=None)\n",
    "ax.coastlines(linewidth=2, zorder=101)\n",
    "\n",
    "threshold = 0.01\n",
    "start_date, end_date = wpc_urma.valid_time[0].values, wpc_urma.valid_time[-1].values\n",
    "\n",
    "ax.set_title('WPC URMA\\nObserved Relative Frequency (QPE > %0.2f\") %2.1f%%\\n'%(threshold, plotvar.mean()*100) + \n",
    "             '%d 6h Periods\\n%s - %s'%(mask.shape[0], start_date, end_date))\n",
    "\n",
    "cbd = ax.contourf(plotvar_masked.lon, plotvar_masked.lat, plotvar_masked,\n",
    "           levels=np.arange(0, 0.61, .1))#plotvar.max().round(1)+.2, .1))\n",
    "\n",
    "#[left, bottom, width, height]\n",
    "cbar_ax = fig.add_axes([1.005, .075, .05, .85])\n",
    "cbar = plt.colorbar(cbd, cax=cbar_ax)\n",
    "cbar.ax.tick_params(labelsize=16)\n",
    "\n",
    "plt.show()\n",
    "print()"
   ]
  },
  {
   "cell_type": "code",
   "execution_count": null,
   "metadata": {},
   "outputs": [],
   "source": [
    "plotvar = wpc_urma['tp']\n",
    "\n",
    "plotvar['longitude'] = plotvar['longitude'] - 360\n",
    "lons, lats = plotvar.longitude, plotvar.latitude\n",
    "\n",
    "geodir = '../forecast-zones/'\n",
    "zones_shapefile = glob(geodir + '*.shp')[0]\n",
    "zones = gpd.read_file(zones_shapefile)\n",
    "zones = zones.set_index('TIME_ZONE').loc[['M', 'Mm', 'm', 'MP', 'P']].reset_index()\n",
    "cwas = zones.dissolve(by='CWA').reset_index()[['CWA', 'geometry']]\n",
    "_cwas = cwas.copy()\n",
    "\n",
    "if cwa == 'WESTUS':\n",
    "    _cwas['CWA'] = 'WESTUS'\n",
    "    _cwas = _cwas.dissolve(by='CWA').reset_index()\n",
    "    bounds = _cwas.total_bounds\n",
    "else:\n",
    "    bounds = _cwas[_cwas['CWA'] == cwa].bounds.values[0]\n",
    "        \n",
    "mask = regionmask.mask_3D_geopandas(_cwas, lons, lats).rename({'region':'cwa'})\n",
    "mask['cwa'] = _cwas.iloc[mask.cwa]['CWA'].values.astype(str)\n",
    "mask = mask.sel(cwa=cwa)\n",
    "plotvar['x'] = mask.x\n",
    "plotvar['y'] = mask.y\n",
    "\n",
    "wpc_urma_tp_masked = xr.where(mask, plotvar, np.nan)\n",
    "wpc_urma_tp_masked_flat = wpc_urma_tp_masked.values.flatten()\n",
    "\n",
    "plotvar = stid_urma['tp']\n",
    "\n",
    "plotvar['longitude'] = plotvar['longitude'] - 360\n",
    "lons, lats = plotvar.longitude, plotvar.latitude\n",
    "        \n",
    "mask = regionmask.mask_3D_geopandas(_cwas, lons, lats).rename({'region':'cwa'})\n",
    "mask['cwa'] = _cwas.iloc[mask.cwa]['CWA'].values.astype(str)\n",
    "mask = mask.sel(cwa=cwa)\n",
    "plotvar['x'] = mask.x\n",
    "plotvar['y'] = mask.y\n",
    "\n",
    "stid_urma_tp_masked = xr.where(mask, plotvar, np.nan)\n",
    "stid_urma_tp_masked_flat = stid_urma_tp_masked.values.flatten()"
   ]
  },
  {
   "cell_type": "code",
   "execution_count": null,
   "metadata": {},
   "outputs": [],
   "source": [
    "fig, ax = plt.subplots(1, figsize=(10, 10), facecolor='w')\n",
    "\n",
    "bins = [0.01, 0.1, 0.25, 0.50, 0.75, 1.0, 1.25, 1.5, 2.0, 3.0, 4.0, 5.0]\n",
    "\n",
    "plt.rcParams.update({'font.size': 12})\n",
    "ax.hist(stid_urma_tp_masked_flat/25.4, bins=bins, edgecolor='r', density=True, histtype='step', linewidth=2, label='STID URMA')\n",
    "ax.hist(wpc_urma_tp_masked_flat/25.4, bins=bins, edgecolor='k', density=True, histtype='step', linewidth=2, label='WPC URMA')\n",
    "\n",
    "ax.set_xticks(bins)\n",
    "ax.set_xticklabels(bins, rotation=70)\n",
    "\n",
    "ax.set_yscale('log')\n",
    "\n",
    "ax.legend(fontsize=18)\n",
    "ax.grid()\n",
    "\n",
    "ax.set_title('URMA\\n QPE ' + \n",
    "             '%d 6h Periods\\n%s - %s'%(mask.shape[0], start_date, end_date))\n",
    "\n",
    "plt.show()"
   ]
  }
 ],
 "metadata": {
  "kernelspec": {
   "display_name": "Python 3",
   "language": "python",
   "name": "python3"
  },
  "language_info": {
   "codemirror_mode": {
    "name": "ipython",
    "version": 3
   },
   "file_extension": ".py",
   "mimetype": "text/x-python",
   "name": "python",
   "nbconvert_exporter": "python",
   "pygments_lexer": "ipython3",
   "version": "3.8.3"
  }
 },
 "nbformat": 4,
 "nbformat_minor": 4
}
